{
 "cells": [
  {
   "cell_type": "code",
   "execution_count": 1,
   "id": "63f9f92d",
   "metadata": {},
   "outputs": [],
   "source": [
    "import os\n",
    "import json\n",
    "import re\n",
    "import streamlit as st\n",
    "import pandas as pd\n",
    "from bs4 import BeautifulSoup\n",
    "\n",
    "# --- Função para limpar HTML ---\n",
    "def limpar_html_completo(html):\n",
    "    try:\n",
    "        soup = BeautifulSoup(html, \"html.parser\")\n",
    "        texto_formatado = soup.decode(formatter=\"html\")\n",
    "        texto_formatado = texto_formatado.replace(\"\\\\n\", \"<br>\")\n",
    "        texto_formatado = re.sub(r'[\\ud800-\\udfff]', '', texto_formatado)\n",
    "        return texto_formatado\n",
    "    except Exception as e:\n",
    "        return f\"<p><b>Erro ao renderizar conteúdo:</b> {e}</p>\"\n",
    "\n",
    "# --- Carregar edições válidas ---\n",
    "def carregar_edicoes_validas(pasta=\"data\"):\n",
    "    edicoes = {}\n",
    "    for nome_arquivo in sorted(os.listdir(pasta)):\n",
    "        if nome_arquivo.endswith(\".json\"):\n",
    "            caminho = os.path.join(pasta, nome_arquivo)\n",
    "            print(f\"📄 Verificando: {nome_arquivo}\")\n",
    "            try:\n",
    "                with open(caminho, encoding=\"utf-8\") as f:\n",
    "                    data = json.load(f)\n",
    "\n",
    "                edicoes_ordinarias = data.get(\"edicoes_ordinarias_exclusivas\")\n",
    "\n",
    "                if not edicoes_ordinarias:\n",
    "                    print(\"⛔ 'edicoes_ordinarias_exclusivas' ausente ou vazia.\")\n",
    "                    continue\n",
    "\n",
    "                if isinstance(edicoes_ordinarias, list):\n",
    "                    for i, item in enumerate(edicoes_ordinarias):\n",
    "                        print(f\"🔍 Item {i}: {type(item)}\")\n",
    "                        if isinstance(item, dict) and \"atos\" in item and item[\"atos\"]:\n",
    "                            match = re.search(r'(\\d{4})_(\\d{2})_(\\d{2})_1600_2359', nome_arquivo)\n",
    "                            if match:\n",
    "                                data_str = f\"{match.group(1)}/{match.group(2)}/{match.group(3)}\"\n",
    "                                edicoes[data_str] = item[\"atos\"]\n",
    "                                print(f\"✅ Ato válido para {data_str}\")\n",
    "                            break\n",
    "                        else:\n",
    "                            print(f\"⚠️ Item inválido ou sem atos.\")\n",
    "                else:\n",
    "                    print(\"⚠️ edicoes_ordinarias_exclusivas não é lista.\")\n",
    "            except Exception as e:\n",
    "                print(f\"[!] Erro ao processar {nome_arquivo}: {e}\")\n",
    "    return edicoes"
   ]
  },
  {
   "cell_type": "code",
   "execution_count": null,
   "id": "b7a1f985",
   "metadata": {},
   "outputs": [
    {
     "ename": "NameError",
     "evalue": "name 'nome_arquivo' is not defined",
     "output_type": "error",
     "traceback": [
      "\u001b[31m---------------------------------------------------------------------------\u001b[39m",
      "\u001b[31mNameError\u001b[39m                                 Traceback (most recent call last)",
      "\u001b[36mCell\u001b[39m\u001b[36m \u001b[39m\u001b[32mIn[4]\u001b[39m\u001b[32m, line 5\u001b[39m\n\u001b[32m      4\u001b[39m \u001b[38;5;28;01mtry\u001b[39;00m:\n\u001b[32m----> \u001b[39m\u001b[32m5\u001b[39m     \u001b[38;5;28;01mwith\u001b[39;00m zipfile.ZipFile(\u001b[43mdestino\u001b[49m, \u001b[33m'\u001b[39m\u001b[33mr\u001b[39m\u001b[33m'\u001b[39m) \u001b[38;5;28;01mas\u001b[39;00m zip_ref:\n\u001b[32m      6\u001b[39m         zip_ref.extractall(\u001b[33m\"\u001b[39m\u001b[33mdata\u001b[39m\u001b[33m\"\u001b[39m)\n",
      "\u001b[31mNameError\u001b[39m: name 'destino' is not defined",
      "\nDuring handling of the above exception, another exception occurred:\n",
      "\u001b[31mNameError\u001b[39m                                 Traceback (most recent call last)",
      "\u001b[36mCell\u001b[39m\u001b[36m \u001b[39m\u001b[32mIn[4]\u001b[39m\u001b[32m, line 9\u001b[39m\n\u001b[32m      7\u001b[39m     \u001b[38;5;28mprint\u001b[39m(\u001b[33mf\u001b[39m\u001b[33m\"\u001b[39m\u001b[33m📂 Arquivo descompactado em: data/\u001b[39m\u001b[33m\"\u001b[39m)\n\u001b[32m      8\u001b[39m \u001b[38;5;28;01mexcept\u001b[39;00m \u001b[38;5;167;01mException\u001b[39;00m \u001b[38;5;28;01mas\u001b[39;00m e:\n\u001b[32m----> \u001b[39m\u001b[32m9\u001b[39m     \u001b[38;5;28mprint\u001b[39m(\u001b[33mf\u001b[39m\u001b[33m\"\u001b[39m\u001b[33m[!!] Erro ao descompactar \u001b[39m\u001b[38;5;132;01m{\u001b[39;00m\u001b[43mnome_arquivo\u001b[49m\u001b[38;5;132;01m}\u001b[39;00m\u001b[33m: \u001b[39m\u001b[38;5;132;01m{\u001b[39;00me\u001b[38;5;132;01m}\u001b[39;00m\u001b[33m\"\u001b[39m)\n\u001b[32m     12\u001b[39m \u001b[38;5;28;01mimport\u001b[39;00m\u001b[38;5;250m \u001b[39m\u001b[34;01mjson\u001b[39;00m\n\u001b[32m     13\u001b[39m \u001b[38;5;28;01mwith\u001b[39;00m \u001b[38;5;28mopen\u001b[39m(\u001b[33m\"\u001b[39m\u001b[33mdata/cigadados_publicacoes_2025_05_06_1600_2359.json\u001b[39m\u001b[33m\"\u001b[39m, encoding=\u001b[33m\"\u001b[39m\u001b[33mutf-8\u001b[39m\u001b[33m\"\u001b[39m) \u001b[38;5;28;01mas\u001b[39;00m f:\n",
      "\u001b[31mNameError\u001b[39m: name 'nome_arquivo' is not defined"
     ]
    }
   ],
   "source": [
    "\n",
    "\n",
    "\n",
    "import json\n",
    "with open(\"data/cigadados_publicacoes_2025_05_06_1600_2359.json\", encoding=\"utf-8\") as f:\n",
    "    data = json.load(f)\n",
    "\n",
    "data[\"edicoes_ordinarias_exclusivas\"][0].keys()  # o que aparece aqui?"
   ]
  }
 ],
 "metadata": {
  "kernelspec": {
   "display_name": ".venv",
   "language": "python",
   "name": "python3"
  },
  "language_info": {
   "codemirror_mode": {
    "name": "ipython",
    "version": 3
   },
   "file_extension": ".py",
   "mimetype": "text/x-python",
   "name": "python",
   "nbconvert_exporter": "python",
   "pygments_lexer": "ipython3",
   "version": "3.13.2"
  }
 },
 "nbformat": 4,
 "nbformat_minor": 5
}
