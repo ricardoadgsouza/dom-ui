{
 "cells": [
  {
   "cell_type": "code",
   "execution_count": 10,
   "id": "5edc7cfb",
   "metadata": {},
   "outputs": [
    {
     "name": "stderr",
     "output_type": "stream",
     "text": [
      "/var/folders/ln/bkz1gphd7nx5j8h_b8_4k4lr0000gn/T/ipykernel_57186/365171068.py:27: DeprecationWarning: The 'text' argument to find()-type methods is deprecated. Use 'string' instead.\n",
      "  link_zip = soup.find(\"a\", href=True, text=re.compile(r'cigadados_publicacoes_\\d{4}_\\d{2}_\\d{2}_1600_2359\\.zip$'))\n"
     ]
    },
    {
     "name": "stdout",
     "output_type": "stream",
     "text": [
      "🔗 Baixando: https://dados.ciga.sc.gov.br/dataset/6fb88011-fc0b-4d0d-bceb-ab59a3811bce/resource/116dbe75-fbe9-456d-8c32-22e818f48925/download/cigadados_publicacoes_2025_05_05_1600_2359.zip\n",
      "✅ Salvo em: data/cigadados_publicacoes_2025_05_05_1600_2359.zip\n",
      "🔗 Baixando: https://dados.ciga.sc.gov.br/dataset/6fb88011-fc0b-4d0d-bceb-ab59a3811bce/resource/59ccd448-b939-490e-a028-16a28bdb84da/download/cigadados_publicacoes_2025_05_03_1600_2359.zip\n",
      "✅ Salvo em: data/cigadados_publicacoes_2025_05_03_1600_2359.zip\n",
      "🔗 Baixando: https://dados.ciga.sc.gov.br/dataset/6fb88011-fc0b-4d0d-bceb-ab59a3811bce/resource/ed0c462e-8c00-47f5-8e4f-6fc4ecb07fd6/download/cigadados_publicacoes_2025_05_06_1600_2359.zip\n",
      "✅ Já existe: cigadados_publicacoes_2025_05_06_1600_2359.zip\n",
      "🔗 Baixando: https://dados.ciga.sc.gov.br/dataset/6fb88011-fc0b-4d0d-bceb-ab59a3811bce/resource/38eadb5a-0e26-4341-b53e-bbb83ec7b9e0/download/cigadados_publicacoes_2025_05_04_1600_2359.zip\n",
      "✅ Salvo em: data/cigadados_publicacoes_2025_05_04_1600_2359.zip\n",
      "🔗 Baixando: https://dados.ciga.sc.gov.br/dataset/6fb88011-fc0b-4d0d-bceb-ab59a3811bce/resource/c83526a3-18e7-494e-bd55-719660e480ce/download/cigadados_publicacoes_2025_05_01_1600_2359.zip\n",
      "✅ Salvo em: data/cigadados_publicacoes_2025_05_01_1600_2359.zip\n",
      "🔗 Baixando: https://dados.ciga.sc.gov.br/dataset/6fb88011-fc0b-4d0d-bceb-ab59a3811bce/resource/7d6440aa-bdb0-45f8-8e51-5b57db50bba5/download/cigadados_publicacoes_2025_05_02_1600_2359.zip\n",
      "✅ Salvo em: data/cigadados_publicacoes_2025_05_02_1600_2359.zip\n"
     ]
    }
   ],
   "source": [
    "import requests\n",
    "from bs4 import BeautifulSoup\n",
    "import re\n",
    "import os\n",
    "\n",
    "# Configuração\n",
    "url_base = \"https://dados.ciga.sc.gov.br/dataset/domsc-publicacoes-de-05-2025\"\n",
    "site_prefix = \"https://dados.ciga.sc.gov.br\"\n",
    "os.makedirs(\"data\", exist_ok=True)\n",
    "\n",
    "# Pega o HTML da página principal do mês\n",
    "resp = requests.get(url_base)\n",
    "soup = BeautifulSoup(resp.text, \"html.parser\")\n",
    "\n",
    "# Coleta links para as subpáginas de recurso\n",
    "padrao_pagina = re.compile(r'^/dataset/.+/resource/[\\w-]+$')\n",
    "paginas_recursos = sorted(\n",
    "    set(site_prefix + l['href'] for l in soup.find_all(\"a\", href=True) if padrao_pagina.match(l['href'])),\n",
    "    reverse=True\n",
    ")\n",
    "\n",
    "# Função para extrair link .zip com padrão 1600_2359\n",
    "def encontrar_link_zip(pagina_recurso):\n",
    "    try:\n",
    "        resp = requests.get(pagina_recurso)\n",
    "        soup = BeautifulSoup(resp.text, \"html.parser\")\n",
    "        link_zip = soup.find(\"a\", href=True, text=re.compile(r'cigadados_publicacoes_\\d{4}_\\d{2}_\\d{2}_1600_2359\\.zip$'))\n",
    "        if link_zip:\n",
    "            href = link_zip[\"href\"]\n",
    "            return href if href.startswith(\"http\") else site_prefix + href\n",
    "    except Exception as e:\n",
    "        print(f\"[!] Erro ao acessar {pagina_recurso}: {e}\")\n",
    "    return None\n",
    "\n",
    "# Armazena os links válidos\n",
    "links_validos = []\n",
    "for pagina in paginas_recursos:\n",
    "    link = encontrar_link_zip(pagina)\n",
    "    if link:\n",
    "        links_validos.append(link)\n",
    "\n",
    "# Remove duplicatas\n",
    "links_validos = list(set(links_validos))\n",
    "\n",
    "# Baixa todos os arquivos encontrados\n",
    "for link_final in links_validos:\n",
    "    print(f\"🔗 Baixando: {link_final}\")\n",
    "    nome_arquivo = os.path.basename(link_final)\n",
    "    destino = os.path.join(\"data\", nome_arquivo)\n",
    "    \n",
    "    if os.path.exists(destino):\n",
    "        print(f\"✅ Já existe: {nome_arquivo}\")\n",
    "        continue\n",
    "\n",
    "    try:\n",
    "        r = requests.get(link_final)\n",
    "        with open(destino, \"wb\") as f:\n",
    "            f.write(r.content)\n",
    "        print(f\"✅ Salvo em: {destino}\")\n",
    "    except Exception as e:\n",
    "        print(f\"[!] Falha no download de {nome_arquivo}: {e}\")"
   ]
  },
  {
   "cell_type": "code",
   "execution_count": 11,
   "id": "677b0730",
   "metadata": {},
   "outputs": [
    {
     "name": "stdout",
     "output_type": "stream",
     "text": [
      "dict_keys(['url', 'data', 'municipio', 'atos'])\n"
     ]
    }
   ],
   "source": [
    "import zipfile\n",
    "import json\n",
    "\n",
    "zip_path = \"data/cigadados_publicacoes_2025_05_06_1600_2359.zip\"\n",
    "\n",
    "with zipfile.ZipFile(zip_path, \"r\") as zip_file:\n",
    "    # Pega o primeiro arquivo .json dentro do zip\n",
    "    json_filename = [name for name in zip_file.namelist() if name.endswith(\".json\")][0]\n",
    "    \n",
    "    with zip_file.open(json_filename) as f:\n",
    "        data = json.load(f)\n",
    "\n",
    "# Agora você pode acessar:\n",
    "print(data[\"edicoes_ordinarias_exclusivas\"][0].keys())"
   ]
  },
  {
   "cell_type": "code",
   "execution_count": null,
   "id": "e775a75e",
   "metadata": {},
   "outputs": [],
   "source": []
  }
 ],
 "metadata": {
  "kernelspec": {
   "display_name": ".venv",
   "language": "python",
   "name": "python3"
  },
  "language_info": {
   "codemirror_mode": {
    "name": "ipython",
    "version": 3
   },
   "file_extension": ".py",
   "mimetype": "text/x-python",
   "name": "python",
   "nbconvert_exporter": "python",
   "pygments_lexer": "ipython3",
   "version": "3.13.2"
  }
 },
 "nbformat": 4,
 "nbformat_minor": 5
}
